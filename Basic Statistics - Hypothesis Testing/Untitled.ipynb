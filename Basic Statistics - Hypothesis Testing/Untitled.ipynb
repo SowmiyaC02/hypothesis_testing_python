{
 "cells": [
  {
   "cell_type": "code",
   "execution_count": 1,
   "id": "c1c8f274",
   "metadata": {},
   "outputs": [],
   "source": [
    "import numpy as np"
   ]
  },
  {
   "cell_type": "code",
   "execution_count": 2,
   "id": "1f60a5f0",
   "metadata": {},
   "outputs": [
    {
     "name": "stdout",
     "output_type": "stream",
     "text": [
      "C:\\Users\\Sai\n"
     ]
    }
   ],
   "source": [
    "import pandas as pd\n",
    "import matplotlib.pyplot as plt\n",
    "import seaborn as sns \n",
    "%cd"
   ]
  },
  {
   "cell_type": "code",
   "execution_count": 3,
   "id": "21a1db05",
   "metadata": {},
   "outputs": [],
   "source": [
    "loan=pd.read_csv(r'Desktop\\notes\\sowmiya\\Python\\Basic Statistics - Hypothesis Testing\\LoansData.csv')"
   ]
  },
  {
   "cell_type": "code",
   "execution_count": 4,
   "id": "ecefb4aa",
   "metadata": {},
   "outputs": [
    {
     "data": {
      "text/html": [
       "<div>\n",
       "<style scoped>\n",
       "    .dataframe tbody tr th:only-of-type {\n",
       "        vertical-align: middle;\n",
       "    }\n",
       "\n",
       "    .dataframe tbody tr th {\n",
       "        vertical-align: top;\n",
       "    }\n",
       "\n",
       "    .dataframe thead th {\n",
       "        text-align: right;\n",
       "    }\n",
       "</style>\n",
       "<table border=\"1\" class=\"dataframe\">\n",
       "  <thead>\n",
       "    <tr style=\"text-align: right;\">\n",
       "      <th></th>\n",
       "      <th>Amount.Requested</th>\n",
       "      <th>Amount.Funded.By.Investors</th>\n",
       "      <th>Monthly.Income</th>\n",
       "      <th>Open.CREDIT.Lines</th>\n",
       "      <th>Revolving.CREDIT.Balance</th>\n",
       "      <th>Inquiries.in.the.Last.6.Months</th>\n",
       "    </tr>\n",
       "  </thead>\n",
       "  <tbody>\n",
       "    <tr>\n",
       "      <th>count</th>\n",
       "      <td>2499.000000</td>\n",
       "      <td>2499.000000</td>\n",
       "      <td>2499.000000</td>\n",
       "      <td>2497.000000</td>\n",
       "      <td>2497.000000</td>\n",
       "      <td>2497.000000</td>\n",
       "    </tr>\n",
       "    <tr>\n",
       "      <th>mean</th>\n",
       "      <td>12405.462185</td>\n",
       "      <td>12002.374186</td>\n",
       "      <td>5688.931321</td>\n",
       "      <td>10.072887</td>\n",
       "      <td>15223.184622</td>\n",
       "      <td>0.906688</td>\n",
       "    </tr>\n",
       "    <tr>\n",
       "      <th>std</th>\n",
       "      <td>7802.933666</td>\n",
       "      <td>7746.767348</td>\n",
       "      <td>3963.118185</td>\n",
       "      <td>4.507416</td>\n",
       "      <td>18281.015258</td>\n",
       "      <td>1.231149</td>\n",
       "    </tr>\n",
       "    <tr>\n",
       "      <th>min</th>\n",
       "      <td>1000.000000</td>\n",
       "      <td>-0.010000</td>\n",
       "      <td>588.500000</td>\n",
       "      <td>2.000000</td>\n",
       "      <td>0.000000</td>\n",
       "      <td>0.000000</td>\n",
       "    </tr>\n",
       "    <tr>\n",
       "      <th>25%</th>\n",
       "      <td>6000.000000</td>\n",
       "      <td>6000.000000</td>\n",
       "      <td>3500.000000</td>\n",
       "      <td>7.000000</td>\n",
       "      <td>5584.000000</td>\n",
       "      <td>0.000000</td>\n",
       "    </tr>\n",
       "    <tr>\n",
       "      <th>50%</th>\n",
       "      <td>10000.000000</td>\n",
       "      <td>10000.000000</td>\n",
       "      <td>5000.000000</td>\n",
       "      <td>9.000000</td>\n",
       "      <td>10948.000000</td>\n",
       "      <td>0.000000</td>\n",
       "    </tr>\n",
       "    <tr>\n",
       "      <th>75%</th>\n",
       "      <td>17000.000000</td>\n",
       "      <td>16000.000000</td>\n",
       "      <td>6800.000000</td>\n",
       "      <td>13.000000</td>\n",
       "      <td>18861.000000</td>\n",
       "      <td>1.000000</td>\n",
       "    </tr>\n",
       "    <tr>\n",
       "      <th>max</th>\n",
       "      <td>35000.000000</td>\n",
       "      <td>35000.000000</td>\n",
       "      <td>102750.000000</td>\n",
       "      <td>38.000000</td>\n",
       "      <td>270800.000000</td>\n",
       "      <td>9.000000</td>\n",
       "    </tr>\n",
       "  </tbody>\n",
       "</table>\n",
       "</div>"
      ],
      "text/plain": [
       "       Amount.Requested  Amount.Funded.By.Investors  Monthly.Income  \\\n",
       "count       2499.000000                 2499.000000     2499.000000   \n",
       "mean       12405.462185                12002.374186     5688.931321   \n",
       "std         7802.933666                 7746.767348     3963.118185   \n",
       "min         1000.000000                   -0.010000      588.500000   \n",
       "25%         6000.000000                 6000.000000     3500.000000   \n",
       "50%        10000.000000                10000.000000     5000.000000   \n",
       "75%        17000.000000                16000.000000     6800.000000   \n",
       "max        35000.000000                35000.000000   102750.000000   \n",
       "\n",
       "       Open.CREDIT.Lines  Revolving.CREDIT.Balance  \\\n",
       "count        2497.000000               2497.000000   \n",
       "mean           10.072887              15223.184622   \n",
       "std             4.507416              18281.015258   \n",
       "min             2.000000                  0.000000   \n",
       "25%             7.000000               5584.000000   \n",
       "50%             9.000000              10948.000000   \n",
       "75%            13.000000              18861.000000   \n",
       "max            38.000000             270800.000000   \n",
       "\n",
       "       Inquiries.in.the.Last.6.Months  \n",
       "count                     2497.000000  \n",
       "mean                         0.906688  \n",
       "std                          1.231149  \n",
       "min                          0.000000  \n",
       "25%                          0.000000  \n",
       "50%                          0.000000  \n",
       "75%                          1.000000  \n",
       "max                          9.000000  "
      ]
     },
     "execution_count": 4,
     "metadata": {},
     "output_type": "execute_result"
    }
   ],
   "source": [
    "loan.describe()"
   ]
  },
  {
   "cell_type": "code",
   "execution_count": 5,
   "id": "c2286c00",
   "metadata": {},
   "outputs": [
    {
     "data": {
      "text/html": [
       "<div>\n",
       "<style scoped>\n",
       "    .dataframe tbody tr th:only-of-type {\n",
       "        vertical-align: middle;\n",
       "    }\n",
       "\n",
       "    .dataframe tbody tr th {\n",
       "        vertical-align: top;\n",
       "    }\n",
       "\n",
       "    .dataframe thead th {\n",
       "        text-align: right;\n",
       "    }\n",
       "</style>\n",
       "<table border=\"1\" class=\"dataframe\">\n",
       "  <thead>\n",
       "    <tr style=\"text-align: right;\">\n",
       "      <th></th>\n",
       "      <th>Amount.Requested</th>\n",
       "      <th>Amount.Funded.By.Investors</th>\n",
       "      <th>Monthly.Income</th>\n",
       "      <th>Open.CREDIT.Lines</th>\n",
       "      <th>Revolving.CREDIT.Balance</th>\n",
       "      <th>Inquiries.in.the.Last.6.Months</th>\n",
       "    </tr>\n",
       "  </thead>\n",
       "  <tbody>\n",
       "    <tr>\n",
       "      <th>count</th>\n",
       "      <td>2499.000000</td>\n",
       "      <td>2499.000000</td>\n",
       "      <td>2499.000000</td>\n",
       "      <td>2497.000000</td>\n",
       "      <td>2497.000000</td>\n",
       "      <td>2497.000000</td>\n",
       "    </tr>\n",
       "    <tr>\n",
       "      <th>mean</th>\n",
       "      <td>12405.462185</td>\n",
       "      <td>12002.374186</td>\n",
       "      <td>5688.931321</td>\n",
       "      <td>10.072887</td>\n",
       "      <td>15223.184622</td>\n",
       "      <td>0.906688</td>\n",
       "    </tr>\n",
       "    <tr>\n",
       "      <th>std</th>\n",
       "      <td>7802.933666</td>\n",
       "      <td>7746.767348</td>\n",
       "      <td>3963.118185</td>\n",
       "      <td>4.507416</td>\n",
       "      <td>18281.015258</td>\n",
       "      <td>1.231149</td>\n",
       "    </tr>\n",
       "    <tr>\n",
       "      <th>min</th>\n",
       "      <td>1000.000000</td>\n",
       "      <td>-0.010000</td>\n",
       "      <td>588.500000</td>\n",
       "      <td>2.000000</td>\n",
       "      <td>0.000000</td>\n",
       "      <td>0.000000</td>\n",
       "    </tr>\n",
       "    <tr>\n",
       "      <th>10%</th>\n",
       "      <td>4000.000000</td>\n",
       "      <td>3600.000000</td>\n",
       "      <td>2600.000000</td>\n",
       "      <td>5.000000</td>\n",
       "      <td>2298.800000</td>\n",
       "      <td>0.000000</td>\n",
       "    </tr>\n",
       "    <tr>\n",
       "      <th>20%</th>\n",
       "      <td>5440.000000</td>\n",
       "      <td>5000.000000</td>\n",
       "      <td>3250.000000</td>\n",
       "      <td>6.000000</td>\n",
       "      <td>4641.600000</td>\n",
       "      <td>0.000000</td>\n",
       "    </tr>\n",
       "    <tr>\n",
       "      <th>30%</th>\n",
       "      <td>7170.000000</td>\n",
       "      <td>6975.000000</td>\n",
       "      <td>3750.000000</td>\n",
       "      <td>7.000000</td>\n",
       "      <td>6560.800000</td>\n",
       "      <td>0.000000</td>\n",
       "    </tr>\n",
       "    <tr>\n",
       "      <th>40%</th>\n",
       "      <td>9000.000000</td>\n",
       "      <td>8799.232000</td>\n",
       "      <td>4333.330000</td>\n",
       "      <td>8.000000</td>\n",
       "      <td>8575.800000</td>\n",
       "      <td>0.000000</td>\n",
       "    </tr>\n",
       "    <tr>\n",
       "      <th>50%</th>\n",
       "      <td>10000.000000</td>\n",
       "      <td>10000.000000</td>\n",
       "      <td>5000.000000</td>\n",
       "      <td>9.000000</td>\n",
       "      <td>10948.000000</td>\n",
       "      <td>0.000000</td>\n",
       "    </tr>\n",
       "    <tr>\n",
       "      <th>60%</th>\n",
       "      <td>12000.000000</td>\n",
       "      <td>12000.000000</td>\n",
       "      <td>5441.484000</td>\n",
       "      <td>11.000000</td>\n",
       "      <td>13482.000000</td>\n",
       "      <td>1.000000</td>\n",
       "    </tr>\n",
       "    <tr>\n",
       "      <th>70%</th>\n",
       "      <td>15000.000000</td>\n",
       "      <td>15000.000000</td>\n",
       "      <td>6250.000000</td>\n",
       "      <td>12.000000</td>\n",
       "      <td>16651.600000</td>\n",
       "      <td>1.000000</td>\n",
       "    </tr>\n",
       "    <tr>\n",
       "      <th>80%</th>\n",
       "      <td>19200.000000</td>\n",
       "      <td>18050.796000</td>\n",
       "      <td>7500.000000</td>\n",
       "      <td>14.000000</td>\n",
       "      <td>21510.800000</td>\n",
       "      <td>2.000000</td>\n",
       "    </tr>\n",
       "    <tr>\n",
       "      <th>90%</th>\n",
       "      <td>24000.000000</td>\n",
       "      <td>23950.000000</td>\n",
       "      <td>9297.330000</td>\n",
       "      <td>16.000000</td>\n",
       "      <td>30047.000000</td>\n",
       "      <td>3.000000</td>\n",
       "    </tr>\n",
       "    <tr>\n",
       "      <th>max</th>\n",
       "      <td>35000.000000</td>\n",
       "      <td>35000.000000</td>\n",
       "      <td>102750.000000</td>\n",
       "      <td>38.000000</td>\n",
       "      <td>270800.000000</td>\n",
       "      <td>9.000000</td>\n",
       "    </tr>\n",
       "  </tbody>\n",
       "</table>\n",
       "</div>"
      ],
      "text/plain": [
       "       Amount.Requested  Amount.Funded.By.Investors  Monthly.Income  \\\n",
       "count       2499.000000                 2499.000000     2499.000000   \n",
       "mean       12405.462185                12002.374186     5688.931321   \n",
       "std         7802.933666                 7746.767348     3963.118185   \n",
       "min         1000.000000                   -0.010000      588.500000   \n",
       "10%         4000.000000                 3600.000000     2600.000000   \n",
       "20%         5440.000000                 5000.000000     3250.000000   \n",
       "30%         7170.000000                 6975.000000     3750.000000   \n",
       "40%         9000.000000                 8799.232000     4333.330000   \n",
       "50%        10000.000000                10000.000000     5000.000000   \n",
       "60%        12000.000000                12000.000000     5441.484000   \n",
       "70%        15000.000000                15000.000000     6250.000000   \n",
       "80%        19200.000000                18050.796000     7500.000000   \n",
       "90%        24000.000000                23950.000000     9297.330000   \n",
       "max        35000.000000                35000.000000   102750.000000   \n",
       "\n",
       "       Open.CREDIT.Lines  Revolving.CREDIT.Balance  \\\n",
       "count        2497.000000               2497.000000   \n",
       "mean           10.072887              15223.184622   \n",
       "std             4.507416              18281.015258   \n",
       "min             2.000000                  0.000000   \n",
       "10%             5.000000               2298.800000   \n",
       "20%             6.000000               4641.600000   \n",
       "30%             7.000000               6560.800000   \n",
       "40%             8.000000               8575.800000   \n",
       "50%             9.000000              10948.000000   \n",
       "60%            11.000000              13482.000000   \n",
       "70%            12.000000              16651.600000   \n",
       "80%            14.000000              21510.800000   \n",
       "90%            16.000000              30047.000000   \n",
       "max            38.000000             270800.000000   \n",
       "\n",
       "       Inquiries.in.the.Last.6.Months  \n",
       "count                     2497.000000  \n",
       "mean                         0.906688  \n",
       "std                          1.231149  \n",
       "min                          0.000000  \n",
       "10%                          0.000000  \n",
       "20%                          0.000000  \n",
       "30%                          0.000000  \n",
       "40%                          0.000000  \n",
       "50%                          0.000000  \n",
       "60%                          1.000000  \n",
       "70%                          1.000000  \n",
       "80%                          2.000000  \n",
       "90%                          3.000000  \n",
       "max                          9.000000  "
      ]
     },
     "execution_count": 5,
     "metadata": {},
     "output_type": "execute_result"
    }
   ],
   "source": [
    "# outliear treatment\n",
    "loan.describe(percentiles=[0.1,0.2,0.3,0.4,0.5,0.6,0.7,0.8,0.9])"
   ]
  },
  {
   "cell_type": "code",
   "execution_count": 6,
   "id": "92d59f96",
   "metadata": {},
   "outputs": [],
   "source": [
    "# for i in loan.columns:\n",
    "#     lower=np.percentile(i,0.1)\n",
    "#     upper=np.percentile(i,0.9)\n",
    "#     np.clip(i,lower,upper)"
   ]
  },
  {
   "cell_type": "code",
   "execution_count": 7,
   "id": "b307b924",
   "metadata": {},
   "outputs": [],
   "source": [
    "# np.quantile(loan['Amount.Requested'],0.01)"
   ]
  },
  {
   "cell_type": "code",
   "execution_count": 8,
   "id": "15fa7c7e",
   "metadata": {},
   "outputs": [
    {
     "data": {
      "text/plain": [
       "Amount.Requested                   1\n",
       "Amount.Funded.By.Investors         1\n",
       "Interest.Rate                      2\n",
       "Loan.Length                        0\n",
       "Loan.Purpose                       0\n",
       "Debt.To.Income.Ratio               1\n",
       "State                              0\n",
       "Home.Ownership                     1\n",
       "Monthly.Income                     1\n",
       "FICO.Range                         2\n",
       "Open.CREDIT.Lines                  3\n",
       "Revolving.CREDIT.Balance           3\n",
       "Inquiries.in.the.Last.6.Months     3\n",
       "Employment.Length                 77\n",
       "dtype: int64"
      ]
     },
     "execution_count": 8,
     "metadata": {},
     "output_type": "execute_result"
    }
   ],
   "source": [
    "loan.isna().sum()"
   ]
  },
  {
   "cell_type": "code",
   "execution_count": 9,
   "id": "082d5d81",
   "metadata": {},
   "outputs": [
    {
     "data": {
      "text/plain": [
       "Amount.Requested                  float64\n",
       "Amount.Funded.By.Investors        float64\n",
       "Interest.Rate                      object\n",
       "Loan.Length                        object\n",
       "Loan.Purpose                       object\n",
       "Debt.To.Income.Ratio               object\n",
       "State                              object\n",
       "Home.Ownership                     object\n",
       "Monthly.Income                    float64\n",
       "FICO.Range                         object\n",
       "Open.CREDIT.Lines                 float64\n",
       "Revolving.CREDIT.Balance          float64\n",
       "Inquiries.in.the.Last.6.Months    float64\n",
       "Employment.Length                  object\n",
       "dtype: object"
      ]
     },
     "execution_count": 9,
     "metadata": {},
     "output_type": "execute_result"
    }
   ],
   "source": [
    "loan.dtypes"
   ]
  },
  {
   "cell_type": "code",
   "execution_count": 10,
   "id": "bbc569f1",
   "metadata": {},
   "outputs": [
    {
     "data": {
      "text/html": [
       "<div>\n",
       "<style scoped>\n",
       "    .dataframe tbody tr th:only-of-type {\n",
       "        vertical-align: middle;\n",
       "    }\n",
       "\n",
       "    .dataframe tbody tr th {\n",
       "        vertical-align: top;\n",
       "    }\n",
       "\n",
       "    .dataframe thead th {\n",
       "        text-align: right;\n",
       "    }\n",
       "</style>\n",
       "<table border=\"1\" class=\"dataframe\">\n",
       "  <thead>\n",
       "    <tr style=\"text-align: right;\">\n",
       "      <th></th>\n",
       "      <th>Amount.Requested</th>\n",
       "      <th>Amount.Funded.By.Investors</th>\n",
       "      <th>Interest.Rate</th>\n",
       "      <th>Loan.Length</th>\n",
       "      <th>Loan.Purpose</th>\n",
       "      <th>Debt.To.Income.Ratio</th>\n",
       "      <th>State</th>\n",
       "      <th>Home.Ownership</th>\n",
       "      <th>Monthly.Income</th>\n",
       "      <th>FICO.Range</th>\n",
       "      <th>Open.CREDIT.Lines</th>\n",
       "      <th>Revolving.CREDIT.Balance</th>\n",
       "      <th>Inquiries.in.the.Last.6.Months</th>\n",
       "      <th>Employment.Length</th>\n",
       "    </tr>\n",
       "  </thead>\n",
       "  <tbody>\n",
       "    <tr>\n",
       "      <th>1346</th>\n",
       "      <td>15000.0</td>\n",
       "      <td>8081.65</td>\n",
       "      <td>13.16%</td>\n",
       "      <td>36 months</td>\n",
       "      <td>debt_consolidation</td>\n",
       "      <td>13.16%</td>\n",
       "      <td>GA</td>\n",
       "      <td>MORTGAGE</td>\n",
       "      <td>2583.33</td>\n",
       "      <td>755-759</td>\n",
       "      <td>3.0</td>\n",
       "      <td>4923.0</td>\n",
       "      <td>2.0</td>\n",
       "      <td>9 years</td>\n",
       "    </tr>\n",
       "  </tbody>\n",
       "</table>\n",
       "</div>"
      ],
      "text/plain": [
       "      Amount.Requested  Amount.Funded.By.Investors Interest.Rate Loan.Length  \\\n",
       "1346           15000.0                     8081.65        13.16%   36 months   \n",
       "\n",
       "            Loan.Purpose Debt.To.Income.Ratio State Home.Ownership  \\\n",
       "1346  debt_consolidation               13.16%    GA       MORTGAGE   \n",
       "\n",
       "      Monthly.Income FICO.Range  Open.CREDIT.Lines  Revolving.CREDIT.Balance  \\\n",
       "1346         2583.33    755-759                3.0                    4923.0   \n",
       "\n",
       "      Inquiries.in.the.Last.6.Months Employment.Length  \n",
       "1346                             2.0           9 years  "
      ]
     },
     "execution_count": 10,
     "metadata": {},
     "output_type": "execute_result"
    }
   ],
   "source": [
    "# loan['Employment.Length'].astype('float')\n",
    "loan.sample()"
   ]
  },
  {
   "cell_type": "code",
   "execution_count": 11,
   "id": "6d95857b",
   "metadata": {},
   "outputs": [
    {
     "data": {
      "text/plain": [
       "Amount.Requested                  float64\n",
       "Amount.Funded.By.Investors        float64\n",
       "Interest.Rate                      object\n",
       "Loan.Length                        object\n",
       "Loan.Purpose                       object\n",
       "Debt.To.Income.Ratio               object\n",
       "State                              object\n",
       "Home.Ownership                     object\n",
       "Monthly.Income                    float64\n",
       "FICO.Range                         object\n",
       "Open.CREDIT.Lines                 float64\n",
       "Revolving.CREDIT.Balance          float64\n",
       "Inquiries.in.the.Last.6.Months    float64\n",
       "Employment.Length                  object\n",
       "dtype: object"
      ]
     },
     "execution_count": 11,
     "metadata": {},
     "output_type": "execute_result"
    }
   ],
   "source": [
    "loan.dtypes"
   ]
  },
  {
   "cell_type": "code",
   "execution_count": 12,
   "id": "7e7570f9",
   "metadata": {},
   "outputs": [],
   "source": [
    "#change column name to proper value\n",
    "loan.columns=[i.replace('.','_')for i in loan.columns]\n",
    "#DATA TYPE CHANGE \n",
    "loan['Interest_Rate']=loan['Interest_Rate'].str.replace(\"%\",\"\").astype('float')\n",
    "loan['Debt_To_Income_Ratio']=loan['Debt_To_Income_Ratio'].str.replace(\"%\",\"\").astype('float')"
   ]
  },
  {
   "cell_type": "code",
   "execution_count": 13,
   "id": "fe7c1174",
   "metadata": {},
   "outputs": [],
   "source": [
    "def missing_value(i):\n",
    "    if ((i.dtype == 'float') or (i.dtype == 'int')):\n",
    "        i=i.fillna(i.median())\n",
    "    elif i.dtype =='object':\n",
    "        i=i.fillna(i.mode()[0])\n",
    "    else:\n",
    "        i\n",
    "    return i\n",
    "        \n",
    "        \n",
    "   "
   ]
  },
  {
   "cell_type": "code",
   "execution_count": 14,
   "id": "cecc28a1",
   "metadata": {},
   "outputs": [],
   "source": [
    "loan=loan.apply(missing_value)"
   ]
  },
  {
   "cell_type": "code",
   "execution_count": 15,
   "id": "2150515f",
   "metadata": {},
   "outputs": [
    {
     "data": {
      "text/html": [
       "<div>\n",
       "<style scoped>\n",
       "    .dataframe tbody tr th:only-of-type {\n",
       "        vertical-align: middle;\n",
       "    }\n",
       "\n",
       "    .dataframe tbody tr th {\n",
       "        vertical-align: top;\n",
       "    }\n",
       "\n",
       "    .dataframe thead th {\n",
       "        text-align: right;\n",
       "    }\n",
       "</style>\n",
       "<table border=\"1\" class=\"dataframe\">\n",
       "  <thead>\n",
       "    <tr style=\"text-align: right;\">\n",
       "      <th></th>\n",
       "      <th>Amount_Requested</th>\n",
       "      <th>Amount_Funded_By_Investors</th>\n",
       "      <th>Interest_Rate</th>\n",
       "      <th>Debt_To_Income_Ratio</th>\n",
       "      <th>Monthly_Income</th>\n",
       "      <th>Open_CREDIT_Lines</th>\n",
       "      <th>Revolving_CREDIT_Balance</th>\n",
       "      <th>Inquiries_in_the_Last_6_Months</th>\n",
       "    </tr>\n",
       "  </thead>\n",
       "  <tbody>\n",
       "    <tr>\n",
       "      <th>count</th>\n",
       "      <td>2500.000000</td>\n",
       "      <td>2500.000000</td>\n",
       "      <td>2500.000000</td>\n",
       "      <td>2500.000000</td>\n",
       "      <td>2500.000000</td>\n",
       "      <td>2500.000000</td>\n",
       "      <td>2500.000000</td>\n",
       "      <td>2500.000000</td>\n",
       "    </tr>\n",
       "    <tr>\n",
       "      <th>mean</th>\n",
       "      <td>12404.500000</td>\n",
       "      <td>12001.573236</td>\n",
       "      <td>13.065424</td>\n",
       "      <td>15.380396</td>\n",
       "      <td>5688.655748</td>\n",
       "      <td>10.071600</td>\n",
       "      <td>15218.054400</td>\n",
       "      <td>0.905600</td>\n",
       "    </tr>\n",
       "    <tr>\n",
       "      <th>std</th>\n",
       "      <td>7801.520636</td>\n",
       "      <td>7745.320754</td>\n",
       "      <td>4.175530</td>\n",
       "      <td>7.503551</td>\n",
       "      <td>3962.349122</td>\n",
       "      <td>4.504863</td>\n",
       "      <td>18270.638709</td>\n",
       "      <td>1.230811</td>\n",
       "    </tr>\n",
       "    <tr>\n",
       "      <th>min</th>\n",
       "      <td>1000.000000</td>\n",
       "      <td>-0.010000</td>\n",
       "      <td>5.420000</td>\n",
       "      <td>0.000000</td>\n",
       "      <td>588.500000</td>\n",
       "      <td>2.000000</td>\n",
       "      <td>0.000000</td>\n",
       "      <td>0.000000</td>\n",
       "    </tr>\n",
       "    <tr>\n",
       "      <th>1%</th>\n",
       "      <td>1500.000000</td>\n",
       "      <td>999.172800</td>\n",
       "      <td>5.988000</td>\n",
       "      <td>0.719000</td>\n",
       "      <td>1416.536600</td>\n",
       "      <td>3.000000</td>\n",
       "      <td>0.000000</td>\n",
       "      <td>0.000000</td>\n",
       "    </tr>\n",
       "    <tr>\n",
       "      <th>2%</th>\n",
       "      <td>1900.000000</td>\n",
       "      <td>1400.000000</td>\n",
       "      <td>6.030000</td>\n",
       "      <td>1.589800</td>\n",
       "      <td>1666.670000</td>\n",
       "      <td>3.000000</td>\n",
       "      <td>66.560000</td>\n",
       "      <td>0.000000</td>\n",
       "    </tr>\n",
       "    <tr>\n",
       "      <th>3%</th>\n",
       "      <td>2000.000000</td>\n",
       "      <td>1800.000000</td>\n",
       "      <td>6.030000</td>\n",
       "      <td>2.179100</td>\n",
       "      <td>1833.330000</td>\n",
       "      <td>3.000000</td>\n",
       "      <td>348.910000</td>\n",
       "      <td>0.000000</td>\n",
       "    </tr>\n",
       "    <tr>\n",
       "      <th>4%</th>\n",
       "      <td>2500.000000</td>\n",
       "      <td>2000.000000</td>\n",
       "      <td>6.540000</td>\n",
       "      <td>2.766400</td>\n",
       "      <td>2000.000000</td>\n",
       "      <td>4.000000</td>\n",
       "      <td>679.800000</td>\n",
       "      <td>0.000000</td>\n",
       "    </tr>\n",
       "    <tr>\n",
       "      <th>5%</th>\n",
       "      <td>2871.250000</td>\n",
       "      <td>2200.000000</td>\n",
       "      <td>6.620000</td>\n",
       "      <td>3.158000</td>\n",
       "      <td>2166.336500</td>\n",
       "      <td>4.000000</td>\n",
       "      <td>920.550000</td>\n",
       "      <td>0.000000</td>\n",
       "    </tr>\n",
       "    <tr>\n",
       "      <th>6%</th>\n",
       "      <td>3000.000000</td>\n",
       "      <td>2500.000000</td>\n",
       "      <td>6.620000</td>\n",
       "      <td>3.580000</td>\n",
       "      <td>2331.450200</td>\n",
       "      <td>4.000000</td>\n",
       "      <td>1251.940000</td>\n",
       "      <td>0.000000</td>\n",
       "    </tr>\n",
       "    <tr>\n",
       "      <th>7.0%</th>\n",
       "      <td>3200.000000</td>\n",
       "      <td>3000.000000</td>\n",
       "      <td>6.990000</td>\n",
       "      <td>4.000000</td>\n",
       "      <td>2478.134000</td>\n",
       "      <td>4.000000</td>\n",
       "      <td>1530.440000</td>\n",
       "      <td>0.000000</td>\n",
       "    </tr>\n",
       "    <tr>\n",
       "      <th>8%</th>\n",
       "      <td>3600.000000</td>\n",
       "      <td>3000.000000</td>\n",
       "      <td>7.427600</td>\n",
       "      <td>4.466800</td>\n",
       "      <td>2500.000000</td>\n",
       "      <td>5.000000</td>\n",
       "      <td>1750.920000</td>\n",
       "      <td>0.000000</td>\n",
       "    </tr>\n",
       "    <tr>\n",
       "      <th>9%</th>\n",
       "      <td>3800.000000</td>\n",
       "      <td>3500.000000</td>\n",
       "      <td>7.510000</td>\n",
       "      <td>4.859100</td>\n",
       "      <td>2500.000000</td>\n",
       "      <td>5.000000</td>\n",
       "      <td>2059.100000</td>\n",
       "      <td>0.000000</td>\n",
       "    </tr>\n",
       "    <tr>\n",
       "      <th>50%</th>\n",
       "      <td>10000.000000</td>\n",
       "      <td>10000.000000</td>\n",
       "      <td>13.110000</td>\n",
       "      <td>15.320000</td>\n",
       "      <td>5000.000000</td>\n",
       "      <td>9.000000</td>\n",
       "      <td>10948.000000</td>\n",
       "      <td>0.000000</td>\n",
       "    </tr>\n",
       "    <tr>\n",
       "      <th>max</th>\n",
       "      <td>35000.000000</td>\n",
       "      <td>35000.000000</td>\n",
       "      <td>24.890000</td>\n",
       "      <td>34.910000</td>\n",
       "      <td>102750.000000</td>\n",
       "      <td>38.000000</td>\n",
       "      <td>270800.000000</td>\n",
       "      <td>9.000000</td>\n",
       "    </tr>\n",
       "  </tbody>\n",
       "</table>\n",
       "</div>"
      ],
      "text/plain": [
       "       Amount_Requested  Amount_Funded_By_Investors  Interest_Rate  \\\n",
       "count       2500.000000                 2500.000000    2500.000000   \n",
       "mean       12404.500000                12001.573236      13.065424   \n",
       "std         7801.520636                 7745.320754       4.175530   \n",
       "min         1000.000000                   -0.010000       5.420000   \n",
       "1%          1500.000000                  999.172800       5.988000   \n",
       "2%          1900.000000                 1400.000000       6.030000   \n",
       "3%          2000.000000                 1800.000000       6.030000   \n",
       "4%          2500.000000                 2000.000000       6.540000   \n",
       "5%          2871.250000                 2200.000000       6.620000   \n",
       "6%          3000.000000                 2500.000000       6.620000   \n",
       "7.0%        3200.000000                 3000.000000       6.990000   \n",
       "8%          3600.000000                 3000.000000       7.427600   \n",
       "9%          3800.000000                 3500.000000       7.510000   \n",
       "50%        10000.000000                10000.000000      13.110000   \n",
       "max        35000.000000                35000.000000      24.890000   \n",
       "\n",
       "       Debt_To_Income_Ratio  Monthly_Income  Open_CREDIT_Lines  \\\n",
       "count           2500.000000     2500.000000        2500.000000   \n",
       "mean              15.380396     5688.655748          10.071600   \n",
       "std                7.503551     3962.349122           4.504863   \n",
       "min                0.000000      588.500000           2.000000   \n",
       "1%                 0.719000     1416.536600           3.000000   \n",
       "2%                 1.589800     1666.670000           3.000000   \n",
       "3%                 2.179100     1833.330000           3.000000   \n",
       "4%                 2.766400     2000.000000           4.000000   \n",
       "5%                 3.158000     2166.336500           4.000000   \n",
       "6%                 3.580000     2331.450200           4.000000   \n",
       "7.0%               4.000000     2478.134000           4.000000   \n",
       "8%                 4.466800     2500.000000           5.000000   \n",
       "9%                 4.859100     2500.000000           5.000000   \n",
       "50%               15.320000     5000.000000           9.000000   \n",
       "max               34.910000   102750.000000          38.000000   \n",
       "\n",
       "       Revolving_CREDIT_Balance  Inquiries_in_the_Last_6_Months  \n",
       "count               2500.000000                     2500.000000  \n",
       "mean               15218.054400                        0.905600  \n",
       "std                18270.638709                        1.230811  \n",
       "min                    0.000000                        0.000000  \n",
       "1%                     0.000000                        0.000000  \n",
       "2%                    66.560000                        0.000000  \n",
       "3%                   348.910000                        0.000000  \n",
       "4%                   679.800000                        0.000000  \n",
       "5%                   920.550000                        0.000000  \n",
       "6%                  1251.940000                        0.000000  \n",
       "7.0%                1530.440000                        0.000000  \n",
       "8%                  1750.920000                        0.000000  \n",
       "9%                  2059.100000                        0.000000  \n",
       "50%                10948.000000                        0.000000  \n",
       "max               270800.000000                        9.000000  "
      ]
     },
     "execution_count": 15,
     "metadata": {},
     "output_type": "execute_result"
    }
   ],
   "source": [
    "loan.describe(percentiles=np.arange(0.01,0.1,0.01))\n",
    "# loan.sample(1)"
   ]
  },
  {
   "cell_type": "code",
   "execution_count": 16,
   "id": "b01555e3",
   "metadata": {},
   "outputs": [],
   "source": [
    "for i in loan.select_dtypes(np.number):\n",
    "    lower=np.quantile(loan[i],0.01)\n",
    "    upper=np.quantile(loan[i],0.09)\n",
    "    loan[i]=np.clip(loan[i],lower,upper)"
   ]
  },
  {
   "cell_type": "markdown",
   "id": "e3598439",
   "metadata": {},
   "source": [
    "BACKGROUND: The Lending Club is a peer-to-peer lending site where members make loans to \n",
    "each other. The site makes anonymized data on loans and borrowers publicly available. \n",
    "BUSINESS PROBLEM:\n",
    "Using lending club loans data, the team would like to test below hypothesis on how different \n",
    "factors effecing each other (Hint: You may leverage hypothesis testing using statistical tests)\n"
   ]
  },
  {
   "cell_type": "markdown",
   "id": "8fd31a62",
   "metadata": {},
   "source": [
    "# a. Intrest rate is varied for different loan amounts (Less intrest charged for high loan amounts)"
   ]
  },
  {
   "cell_type": "code",
   "execution_count": 17,
   "id": "4aae5ca7",
   "metadata": {},
   "outputs": [
    {
     "data": {
      "text/plain": [
       "3500.0000    2278\n",
       "3000.0000      32\n",
       "999.1728       25\n",
       "2000.0000      23\n",
       "2500.0000      16\n",
       "             ... \n",
       "2925.0000       1\n",
       "1875.0000       1\n",
       "2450.0000       1\n",
       "2025.0100       1\n",
       "3150.0000       1\n",
       "Name: Amount_Funded_By_Investors, Length: 65, dtype: int64"
      ]
     },
     "execution_count": 17,
     "metadata": {},
     "output_type": "execute_result"
    }
   ],
   "source": [
    "loan.Amount_Funded_By_Investors.value_counts()"
   ]
  },
  {
   "cell_type": "code",
   "execution_count": 18,
   "id": "89303707",
   "metadata": {},
   "outputs": [],
   "source": [
    "#checking if there is any correlation btw loan amt and interest rate using pearson correlation\n",
    "import scipy.stats as stats"
   ]
  },
  {
   "cell_type": "raw",
   "id": "a97abee9",
   "metadata": {},
   "source": [
    "Ho=there is relationship between loan amt and interest rate\n",
    "H1 = there is no relationship b/t loan amt and interest rate"
   ]
  },
  {
   "cell_type": "code",
   "execution_count": 19,
   "id": "8361c682",
   "metadata": {},
   "outputs": [
    {
     "data": {
      "text/plain": [
       "PearsonRResult(statistic=-0.016960242730945322, pvalue=0.39663347875201044)"
      ]
     },
     "execution_count": 19,
     "metadata": {},
     "output_type": "execute_result"
    }
   ],
   "source": [
    "stats.pearsonr(loan['Amount_Funded_By_Investors'],loan['Interest_Rate'])"
   ]
  },
  {
   "cell_type": "markdown",
   "id": "f9780efe",
   "metadata": {},
   "source": [
    "#p value is gretaer then significance value 0.05 , we accept null hypothesis \n",
    "there is a negative relationship btw interest rate and loan amt \n"
   ]
  },
  {
   "cell_type": "markdown",
   "id": "ebfc76b6",
   "metadata": {},
   "source": [
    "# b. Loan length is directly effecting intrest rate"
   ]
  },
  {
   "cell_type": "markdown",
   "id": "1eddcbaf",
   "metadata": {},
   "source": [
    "H0: interest rate is same for all lon length\n",
    "H1:interest rate is diff for all lon length"
   ]
  },
  {
   "cell_type": "code",
   "execution_count": 20,
   "id": "8efa5ac9",
   "metadata": {},
   "outputs": [
    {
     "data": {
      "text/plain": [
       "Ttest_indResult(statistic=-6.35734909883276, pvalue=2.432225885473047e-10)"
      ]
     },
     "execution_count": 20,
     "metadata": {},
     "output_type": "execute_result"
    }
   ],
   "source": [
    "# stats.pearsonr(loan['Loan_Length'].str.replace('months','').astype('float'),loan['Interest_Rate'])\n",
    "mon_36=loan[loan.Loan_Length==\"36 months\"]\n",
    "mon_60=loan[loan.Loan_Length==\"60 months\"]\n",
    "stats.ttest_ind(mon_36.Interest_Rate,mon_60.Interest_Rate)"
   ]
  },
  {
   "cell_type": "markdown",
   "id": "b2f60f31",
   "metadata": {},
   "source": [
    "since p value is less then significate value , we accept alternative hypothesis\n",
    "the loan length is effecting interest rate \n"
   ]
  },
  {
   "cell_type": "markdown",
   "id": "385d70d9",
   "metadata": {},
   "source": [
    "# c. Inrest rate varies for different purpose of loan"
   ]
  },
  {
   "cell_type": "markdown",
   "id": "4a0ccfd6",
   "metadata": {},
   "source": [
    "# since this is interest rate numerical and loan purpose is categorical and we have various category , we use anova test\n",
    "Ho:Interest rate is same for all loan type\n",
    "H1:Interest Rate is different for all loan type"
   ]
  },
  {
   "cell_type": "code",
   "execution_count": 22,
   "id": "3f1f930f",
   "metadata": {},
   "outputs": [],
   "source": [
    "a=loan[loan.Loan_Purpose==\"debt_consolidation\"]\n",
    "b=loan[loan.Loan_Purpose==\"credit_card\"]\n",
    "c=loan[loan.Loan_Purpose==\"other\"]\n",
    "d=loan[loan.Loan_Purpose==\"moving\"]\n",
    "e=loan[loan.Loan_Purpose==\"car\"]\n",
    "f=loan[loan.Loan_Purpose==\"vacation\"]\n",
    "g=loan[loan.Loan_Purpose==\"home_improvement\"]\n",
    "h=loan[loan.Loan_Purpose==\"house\"]\n",
    "i=loan[loan.Loan_Purpose==\"major_purchase\"]\n",
    "j=loan[loan.Loan_Purpose==\"educational\"]\n",
    "k=loan[loan.Loan_Purpose==\"medical\"]\n",
    "l=loan[loan.Loan_Purpose==\"small_business\"]\n",
    "m=loan[loan.Loan_Purpose==\"renewable_energy\"]\n",
    "n=loan[loan.Loan_Purpose==\"wedding\"]\n"
   ]
  },
  {
   "cell_type": "code",
   "execution_count": 23,
   "id": "68bc4346",
   "metadata": {},
   "outputs": [
    {
     "data": {
      "text/plain": [
       "F_onewayResult(statistic=4.725893264565126, pvalue=3.740674223782928e-08)"
      ]
     },
     "execution_count": 23,
     "metadata": {},
     "output_type": "execute_result"
    }
   ],
   "source": [
    "stats.f_oneway(a.Interest_Rate,b.Interest_Rate,c.Interest_Rate,d.Interest_Rate,e.Interest_Rate,\n",
    "               f.Interest_Rate,g.Interest_Rate,h.Interest_Rate,i.Interest_Rate,j.Interest_Rate,\n",
    "               k.Interest_Rate,l.Interest_Rate,m.Interest_Rate,n.Interest_Rate)\n"
   ]
  },
  {
   "cell_type": "markdown",
   "id": "c857fb9c",
   "metadata": {},
   "source": [
    "#since p value is less then test statistic , reject null hypothesis \n",
    "there is difference in interest rate for diff loan purpose"
   ]
  },
  {
   "cell_type": "markdown",
   "id": "312c5544",
   "metadata": {},
   "source": [
    "# d.There is relationship between FICO scores and Home Ownership. It means that, People with owning home will have high FICO scores."
   ]
  },
  {
   "cell_type": "code",
   "execution_count": 24,
   "id": "473333cf",
   "metadata": {},
   "outputs": [],
   "source": [
    "loan['FICO_Range']=(loan['FICO_Range'].str.split('-',expand=True).astype(\"float\")[0]+loan['FICO_Range'].str.split('-',expand=True).astype(\"float\")[1])/2"
   ]
  },
  {
   "cell_type": "markdown",
   "id": "8c7f92d0",
   "metadata": {},
   "source": [
    "#fico -NUMERICAL , hOME OWERSHIP -categorical , ANOVA TEST\n",
    "Ho:there is relationship btw FICO and home type\n",
    "H1:there is no relationship btw FICO and home type"
   ]
  },
  {
   "cell_type": "code",
   "execution_count": 25,
   "id": "6c64e715",
   "metadata": {},
   "outputs": [
    {
     "data": {
      "text/plain": [
       "MORTGAGE    1148\n",
       "RENT        1146\n",
       "OWN          200\n",
       "OTHER          5\n",
       "NONE           1\n",
       "Name: Home_Ownership, dtype: int64"
      ]
     },
     "execution_count": 25,
     "metadata": {},
     "output_type": "execute_result"
    }
   ],
   "source": [
    "loan['Home_Ownership'].value_counts()"
   ]
  },
  {
   "cell_type": "code",
   "execution_count": 26,
   "id": "93b6207a",
   "metadata": {},
   "outputs": [
    {
     "data": {
      "text/plain": [
       "F_onewayResult(statistic=19.330308155159962, pvalue=1.1227031714003807e-15)"
      ]
     },
     "execution_count": 26,
     "metadata": {},
     "output_type": "execute_result"
    }
   ],
   "source": [
    "a=loan[loan.Home_Ownership==\"MORTGAGE\"]\n",
    "b=loan[loan.Home_Ownership==\"RENT\"]\n",
    "c=loan[loan.Home_Ownership==\"OWN\"]\n",
    "d=loan[loan.Home_Ownership==\"OTHER\"]\n",
    "e=loan[loan.Home_Ownership==\"NONE\"]\n",
    "\n",
    "stats.f_oneway(a.FICO_Range,b.FICO_Range,c.FICO_Range,d.FICO_Range,e.FICO_Range)"
   ]
  },
  {
   "cell_type": "markdown",
   "id": "daef76a5",
   "metadata": {},
   "source": [
    "##we reject the null hypothesis,yes there is effect in FICO scores because of Ownership"
   ]
  },
  {
   "cell_type": "markdown",
   "id": "0fb3980b",
   "metadata": {},
   "source": [
    "BACKGROUND: When an order is placed by a customer of a small manufacturing company, a \n",
    "price quote must be developed for that order. Because each order is unique, quotes must be \n",
    "established on an order-by-order basis by a pricing expert. The price quote process is labor\u0002intensive, as prices depend on many factors such as the part number, customer, geographic \n",
    "location, market, and order volume. The sales department manager is concerned that the pricing \n",
    "process is too complex, and that there might be too much variability in the quoted prices. An \n",
    "improvement team is tasked with studying and improving the pricing process.\n",
    "After interviewing experts to develop a better understanding of the current process, the team \n",
    "designed a study to determine if there is variability between pricing experts. That is, do different \n",
    "pricing experts provide different price quotes? Two randomly selected pricing experts, Mary and \n",
    "Barry, were asked to independently provide prices for twelve randomly selected orders. Each \n",
    "expert provided one price for each of the twelve orders.\n"
   ]
  },
  {
   "cell_type": "markdown",
   "id": "ab3bbc18",
   "metadata": {},
   "source": [
    "# BUSINESS PROBLEM: We would like to assess if there is any difference in the average price quotes provided by Mary and Barry."
   ]
  },
  {
   "cell_type": "code",
   "execution_count": null,
   "id": "0661c8a1",
   "metadata": {},
   "outputs": [],
   "source": [
    "df=pd.read_csv(r'Desktop\\notes\\sowmiya\\Python\\Basic Statistics - Hypothesis Testing\\Price_Quotes.csv')"
   ]
  },
  {
   "cell_type": "raw",
   "id": "e42eceb2",
   "metadata": {},
   "source": [
    "# doubt since for same order mary and barry are giving price , sample sample is used so paried t test \n",
    "Ho:There is no difference in price auoted by Mary and Barry\n",
    "H1:There is difference in price auoted by Mary and Barry"
   ]
  },
  {
   "cell_type": "code",
   "execution_count": null,
   "id": "42b38211",
   "metadata": {},
   "outputs": [],
   "source": [
    "stats.ttest_ind(df.Mary_Price,df.Barry_Price)"
   ]
  },
  {
   "cell_type": "raw",
   "id": "051d7fdc",
   "metadata": {},
   "source": [
    "# p value > singnificae value , Ho accepted , There is no difference in price auoted by Mary and Barry"
   ]
  },
  {
   "cell_type": "markdown",
   "id": "d0786ca4",
   "metadata": {},
   "source": [
    "BACKGROUND: The New Life Residential Treatment Facility is a NGO that treatsteenagers who\n",
    "have shown signs of mental illness. It provides housing and supervision of teenagers who are\n",
    "making the transition from psychiatric hospitals back into the community. Because many of\n",
    "the teenagers were severely abused as children and have been involved with the juvenile\n",
    "justice system, behavioral problems are common at New Life. Employee pay is low and staff\n",
    "turnover (attrition) is high.\n",
    "A reengineering program wasinstituted at New Life with the goals of lowering behavioral\n",
    "problems of the kids and decreasing employee turnover rates. As a part of this effort, the\n",
    "following changes were made:\n",
    " Employee shifts were shortened from 10 hours to 8 hours each day.\n",
    " Employees were motivated to become more involved in patient treatments. This\n",
    "included encouraging staff to run varioustherapeutic treatment sessions and allowing\n",
    "staff to have more say in program changes.\n",
    " The activities budget wasincreased.\n",
    " A facility-wide performance evaluation system was putinto place that rewarded staff\n",
    "participation andinnovation.\n",
    " Management and staff instituted a program designed to raise expectations about\n",
    "appropriate behavior from the kids. Thisincluded strict compliance with reporting of\n",
    "behavioral violations, insistence on participation in therapeutic sessions, and a\n",
    "lowered tolerance for even moderate behavioralinfractions.\n",
    "To determine the effectiveness of the reengineering effort, a data set comprised of pre- and\n",
    "post-reengineering periods was compiled. The information contains two measures of\n",
    "behavioral problems. A critical incident occurs when a resident goes AWOL (leavesthe\n",
    "premises without permission), destroys property (e.g., punching a hole in a wall or throwing\n",
    "furniture through windows), is caught in possession of street drugs, or engages in assault\n",
    "against other residents or staff members. A teenager istemporarily removed from the facility\n",
    "when s/he is sent to jail or back to a psychiatric hospital\n"
   ]
  },
  {
   "cell_type": "markdown",
   "id": "4edd7e50",
   "metadata": {},
   "source": [
    "# BUSINESS PROBLEM: \n",
    "Determine what effect, if any, the reengineering effort had on the \n",
    "incidence behavioral problems and staff turnover. i.e To determine if the reengineering effort\n",
    "changed the critical incidence rate. Isthere evidence that the critical incidence rate\n",
    "improved?\n"
   ]
  },
  {
   "cell_type": "code",
   "execution_count": 50,
   "id": "b63ff12b",
   "metadata": {},
   "outputs": [],
   "source": [
    "data=pd.read_csv(r'Desktop\\notes\\sowmiya\\Python\\Basic Statistics - Hypothesis Testing\\Treatment_Facility.csv')"
   ]
  },
  {
   "cell_type": "code",
   "execution_count": 57,
   "id": "577365db",
   "metadata": {},
   "outputs": [
    {
     "data": {
      "text/html": [
       "<div>\n",
       "<style scoped>\n",
       "    .dataframe tbody tr th:only-of-type {\n",
       "        vertical-align: middle;\n",
       "    }\n",
       "\n",
       "    .dataframe tbody tr th {\n",
       "        vertical-align: top;\n",
       "    }\n",
       "\n",
       "    .dataframe thead th {\n",
       "        text-align: right;\n",
       "    }\n",
       "</style>\n",
       "<table border=\"1\" class=\"dataframe\">\n",
       "  <thead>\n",
       "    <tr style=\"text-align: right;\">\n",
       "      <th></th>\n",
       "      <th>Month</th>\n",
       "      <th>Reengineer</th>\n",
       "      <th>Employee_Turnover</th>\n",
       "      <th>VAR4</th>\n",
       "      <th>VAR5</th>\n",
       "    </tr>\n",
       "  </thead>\n",
       "  <tbody>\n",
       "    <tr>\n",
       "      <th>13</th>\n",
       "      <td>14</td>\n",
       "      <td>Post</td>\n",
       "      <td>26.6667</td>\n",
       "      <td>9.708738</td>\n",
       "      <td>29.126214</td>\n",
       "    </tr>\n",
       "    <tr>\n",
       "      <th>14</th>\n",
       "      <td>15</td>\n",
       "      <td>Post</td>\n",
       "      <td>17.9487</td>\n",
       "      <td>4.201681</td>\n",
       "      <td>21.008403</td>\n",
       "    </tr>\n",
       "    <tr>\n",
       "      <th>15</th>\n",
       "      <td>16</td>\n",
       "      <td>Post</td>\n",
       "      <td>12.8205</td>\n",
       "      <td>13.043478</td>\n",
       "      <td>34.782609</td>\n",
       "    </tr>\n",
       "    <tr>\n",
       "      <th>16</th>\n",
       "      <td>17</td>\n",
       "      <td>Post</td>\n",
       "      <td>15.7895</td>\n",
       "      <td>9.950249</td>\n",
       "      <td>19.900498</td>\n",
       "    </tr>\n",
       "    <tr>\n",
       "      <th>17</th>\n",
       "      <td>18</td>\n",
       "      <td>Post</td>\n",
       "      <td>0.0000</td>\n",
       "      <td>9.950249</td>\n",
       "      <td>9.950249</td>\n",
       "    </tr>\n",
       "    <tr>\n",
       "      <th>18</th>\n",
       "      <td>19</td>\n",
       "      <td>Post</td>\n",
       "      <td>30.7692</td>\n",
       "      <td>8.510638</td>\n",
       "      <td>25.531915</td>\n",
       "    </tr>\n",
       "    <tr>\n",
       "      <th>19</th>\n",
       "      <td>20</td>\n",
       "      <td>Post</td>\n",
       "      <td>26.8293</td>\n",
       "      <td>9.259259</td>\n",
       "      <td>23.148148</td>\n",
       "    </tr>\n",
       "  </tbody>\n",
       "</table>\n",
       "</div>"
      ],
      "text/plain": [
       "    Month Reengineer  Employee_Turnover       VAR4       VAR5\n",
       "13     14       Post            26.6667   9.708738  29.126214\n",
       "14     15       Post            17.9487   4.201681  21.008403\n",
       "15     16       Post            12.8205  13.043478  34.782609\n",
       "16     17       Post            15.7895   9.950249  19.900498\n",
       "17     18       Post             0.0000   9.950249   9.950249\n",
       "18     19       Post            30.7692   8.510638  25.531915\n",
       "19     20       Post            26.8293   9.259259  23.148148"
      ]
     },
     "execution_count": 57,
     "metadata": {},
     "output_type": "execute_result"
    }
   ],
   "source": [
    "post"
   ]
  },
  {
   "cell_type": "code",
   "execution_count": 52,
   "id": "4a654afd",
   "metadata": {},
   "outputs": [],
   "source": [
    "prior=data[data['Reengineer']=='Prior']"
   ]
  },
  {
   "cell_type": "code",
   "execution_count": 54,
   "id": "5b7b52ed",
   "metadata": {},
   "outputs": [],
   "source": [
    "post=data[data['Reengineer']=='Post']\n"
   ]
  },
  {
   "cell_type": "code",
   "execution_count": null,
   "id": "84afb6ea",
   "metadata": {},
   "outputs": [],
   "source": [
    "Ho: there is no effect on employee trunover\n",
    "H1:there is  effect on employee trunover "
   ]
  },
  {
   "cell_type": "code",
   "execution_count": 55,
   "id": "fb5fca9c",
   "metadata": {},
   "outputs": [
    {
     "data": {
      "text/plain": [
       "Ttest_indResult(statistic=-1.770306704753604, pvalue=0.09361109345535304)"
      ]
     },
     "execution_count": 55,
     "metadata": {},
     "output_type": "execute_result"
    }
   ],
   "source": [
    "stats.ttest_ind(prior.Employee_Turnover,post.Employee_Turnover)"
   ]
  },
  {
   "cell_type": "markdown",
   "id": "0e714fc9",
   "metadata": {},
   "source": [
    "we reject null hypothesis , there is effect on employee turnover "
   ]
  },
  {
   "cell_type": "code",
   "execution_count": null,
   "id": "7c5b92ab",
   "metadata": {},
   "outputs": [],
   "source": [
    "stats.ttest_ind(prior.VAR5,post.VAR5)"
   ]
  },
  {
   "cell_type": "markdown",
   "id": "1d566424",
   "metadata": {},
   "source": [
    "we accept  the null hypothesis,we can't say that their is change in critical incidence"
   ]
  },
  {
   "cell_type": "markdown",
   "id": "58cbf2b8",
   "metadata": {},
   "source": [
    "BUSINESS PROBLEM-4\n",
    "BACKGROUND: Software development projectstypically follow six basic phases: Requirements,\n",
    "design, implementation (and integration), testing (validation), deployment (installation) and\n",
    "maintenance. First, general requirements are gathered, and the scope of the functionality is\n",
    "defined. Then, alternative scenarios for the required functionality are developed and\n",
    "evaluated. Implementation, usually 50% or more of the development time, is the phase in\n",
    "which the design istranslated into programs and integrated with other parts of the software –\n",
    "this is when software engineers actually develop the code. During the final phases, programs\n",
    "are tested, software is put into use, and faults or performance issues are addressed.\n",
    "ApDudes, a developer of applicationsfor tablet computers, was having difficulty meeting\n",
    "project deadlines; only 10% of their projects had been completed within budget and on time\n",
    "last year and that wasstarting to hurt business. The group’s project manager wastasked with\n",
    "studying problems within the implementation phase. He found thatsoftware engineers were\n",
    "having difficulty prioritizing their work, and that they often became overwhelmed by the\n",
    "magnitude of the projects.\n",
    "As a result, two changes were made. Each project was broken down into smaller, distinct\n",
    "tasks, or jobs, and each job was assigned a priority. The project manager believes that this\n",
    "classification and prioritization system would speed the completion of high priority jobs, and\n",
    "thuslower overall project completion time\n"
   ]
  },
  {
   "cell_type": "markdown",
   "id": "6f6d0453",
   "metadata": {},
   "source": [
    "# BUSINESS PROBLEM: \n",
    "We will focus on the prioritization system. If the system is working, then\n",
    "high priority jobs, on average, should be completed more quickly than medium priority jobs,\n",
    "and medium priority jobs should be completed more quickly than low priority jobs. Use the\n",
    "data provided to determine whether thisis, in fact, occurring"
   ]
  },
  {
   "cell_type": "code",
   "execution_count": null,
   "id": "f48779aa",
   "metadata": {},
   "outputs": [],
   "source": [
    "priority = pd.read_csv(r'Desktop\\notes\\sowmiya\\Python\\Basic Statistics - Hypothesis Testing\\Priority_Assessment.csv')"
   ]
  },
  {
   "cell_type": "code",
   "execution_count": null,
   "id": "dbd4676b",
   "metadata": {},
   "outputs": [],
   "source": [
    "high=priority[priority['Priority']=='High']\n",
    "medium=priority[priority['Priority']=='Medium']\n",
    "low=priority[priority['Priority']=='Low']\n"
   ]
  },
  {
   "cell_type": "raw",
   "id": "6d2893ff",
   "metadata": {},
   "source": [
    "ho:priority is same\n",
    "h1:priority is not same"
   ]
  },
  {
   "cell_type": "code",
   "execution_count": null,
   "id": "1d514fd6",
   "metadata": {},
   "outputs": [],
   "source": [
    "stats.f_oneway(high.Days,medium.Days,low.Days)"
   ]
  },
  {
   "cell_type": "code",
   "execution_count": null,
   "id": "3bc3b00a",
   "metadata": {},
   "outputs": [],
   "source": [
    "p value is greater then significance value , so priority is same"
   ]
  },
  {
   "cell_type": "markdown",
   "id": "2195d03a",
   "metadata": {},
   "source": [
    "# BUSINESS PROBLEM: \n",
    "    Use the survey resultsto addressthe following questions\n",
    " What isthe overall level of customer satisfaction?\n",
    " What factors are linked to satisfaction?\n",
    " What is the demographic profile of Film on the Rocks patrons?\n",
    " In what media outlet(s) should the film series be advertised?"
   ]
  },
  {
   "cell_type": "markdown",
   "id": "0a1715ab",
   "metadata": {},
   "source": [
    "What isthe overall level of customer satisfaction? "
   ]
  },
  {
   "cell_type": "code",
   "execution_count": 27,
   "id": "b16f3829",
   "metadata": {},
   "outputs": [],
   "source": [
    "cus=pd.read_csv(r'Desktop\\notes\\sowmiya\\Python\\Basic Statistics - Hypothesis Testing\\Films.csv')"
   ]
  },
  {
   "cell_type": "code",
   "execution_count": 28,
   "id": "5a5e0cfe",
   "metadata": {},
   "outputs": [
    {
     "data": {
      "text/plain": [
       "2          208\n",
       "1           88\n",
       "Single      18\n",
       "Married     12\n",
       "Slngle       2\n",
       "Name: Marital_Status, dtype: int64"
      ]
     },
     "execution_count": 28,
     "metadata": {},
     "output_type": "execute_result"
    }
   ],
   "source": [
    "cus.Marital_Status.value_counts()\n"
   ]
  },
  {
   "cell_type": "code",
   "execution_count": 29,
   "id": "5986811f",
   "metadata": {},
   "outputs": [
    {
     "data": {
      "text/plain": [
       "2         194\n",
       "1         104\n",
       "Female     19\n",
       "Male       13\n",
       "Name: Gender, dtype: int64"
      ]
     },
     "execution_count": 29,
     "metadata": {},
     "output_type": "execute_result"
    }
   ],
   "source": [
    "cus.Gender.value_counts()"
   ]
  },
  {
   "cell_type": "code",
   "execution_count": 30,
   "id": "d5792f35",
   "metadata": {},
   "outputs": [],
   "source": [
    "cus['Gender']=np.where(cus.Gender == '1','Male','Female')\n",
    "cus['Marital_Status']=np.where(cus.Marital_Status == '1','Married','Single')"
   ]
  },
  {
   "cell_type": "code",
   "execution_count": null,
   "id": "6bfff097",
   "metadata": {},
   "outputs": [],
   "source": [
    "cus.apply(missing_value)"
   ]
  },
  {
   "cell_type": "markdown",
   "id": "0bf7c6cd",
   "metadata": {},
   "source": [
    "What isthe overall level of customer satisfaction?"
   ]
  },
  {
   "cell_type": "raw",
   "id": "f1879fa4",
   "metadata": {},
   "source": [
    "ho:overall level of customer satisfaction is 5\n",
    "h1: not 5"
   ]
  },
  {
   "cell_type": "code",
   "execution_count": 44,
   "id": "7861fd13",
   "metadata": {},
   "outputs": [
    {
     "data": {
      "text/plain": [
       "Ttest_1sampResult(statistic=nan, pvalue=nan)"
      ]
     },
     "execution_count": 44,
     "metadata": {},
     "output_type": "execute_result"
    }
   ],
   "source": [
    "stats.ttest_1samp(cus.Overall,5)"
   ]
  },
  {
   "cell_type": "markdown",
   "id": "1e9b6323",
   "metadata": {},
   "source": [
    "What factors are linked to satisfaction?"
   ]
  },
  {
   "cell_type": "code",
   "execution_count": 48,
   "id": "65245cc0",
   "metadata": {},
   "outputs": [
    {
     "data": {
      "text/html": [
       "<div>\n",
       "<style scoped>\n",
       "    .dataframe tbody tr th:only-of-type {\n",
       "        vertical-align: middle;\n",
       "    }\n",
       "\n",
       "    .dataframe tbody tr th {\n",
       "        vertical-align: top;\n",
       "    }\n",
       "\n",
       "    .dataframe thead th {\n",
       "        text-align: right;\n",
       "    }\n",
       "</style>\n",
       "<table border=\"1\" class=\"dataframe\">\n",
       "  <thead>\n",
       "    <tr style=\"text-align: right;\">\n",
       "      <th></th>\n",
       "      <th>_rowstate_</th>\n",
       "      <th>Sinage</th>\n",
       "      <th>Parking</th>\n",
       "      <th>Clean</th>\n",
       "      <th>Overall</th>\n",
       "      <th>Age</th>\n",
       "      <th>Income</th>\n",
       "    </tr>\n",
       "  </thead>\n",
       "  <tbody>\n",
       "    <tr>\n",
       "      <th>_rowstate_</th>\n",
       "      <td>NaN</td>\n",
       "      <td>NaN</td>\n",
       "      <td>NaN</td>\n",
       "      <td>NaN</td>\n",
       "      <td>NaN</td>\n",
       "      <td>NaN</td>\n",
       "      <td>NaN</td>\n",
       "    </tr>\n",
       "    <tr>\n",
       "      <th>Sinage</th>\n",
       "      <td>NaN</td>\n",
       "      <td>1.000000</td>\n",
       "      <td>0.470322</td>\n",
       "      <td>0.349163</td>\n",
       "      <td>0.382881</td>\n",
       "      <td>-0.091512</td>\n",
       "      <td>-0.036721</td>\n",
       "    </tr>\n",
       "    <tr>\n",
       "      <th>Parking</th>\n",
       "      <td>NaN</td>\n",
       "      <td>0.470322</td>\n",
       "      <td>1.000000</td>\n",
       "      <td>0.444368</td>\n",
       "      <td>0.516585</td>\n",
       "      <td>-0.023607</td>\n",
       "      <td>-0.022084</td>\n",
       "    </tr>\n",
       "    <tr>\n",
       "      <th>Clean</th>\n",
       "      <td>NaN</td>\n",
       "      <td>0.349163</td>\n",
       "      <td>0.444368</td>\n",
       "      <td>1.000000</td>\n",
       "      <td>0.349412</td>\n",
       "      <td>-0.005052</td>\n",
       "      <td>0.019851</td>\n",
       "    </tr>\n",
       "    <tr>\n",
       "      <th>Overall</th>\n",
       "      <td>NaN</td>\n",
       "      <td>0.382881</td>\n",
       "      <td>0.516585</td>\n",
       "      <td>0.349412</td>\n",
       "      <td>1.000000</td>\n",
       "      <td>-0.034171</td>\n",
       "      <td>-0.004050</td>\n",
       "    </tr>\n",
       "    <tr>\n",
       "      <th>Age</th>\n",
       "      <td>NaN</td>\n",
       "      <td>-0.091512</td>\n",
       "      <td>-0.023607</td>\n",
       "      <td>-0.005052</td>\n",
       "      <td>-0.034171</td>\n",
       "      <td>1.000000</td>\n",
       "      <td>0.144772</td>\n",
       "    </tr>\n",
       "    <tr>\n",
       "      <th>Income</th>\n",
       "      <td>NaN</td>\n",
       "      <td>-0.036721</td>\n",
       "      <td>-0.022084</td>\n",
       "      <td>0.019851</td>\n",
       "      <td>-0.004050</td>\n",
       "      <td>0.144772</td>\n",
       "      <td>1.000000</td>\n",
       "    </tr>\n",
       "  </tbody>\n",
       "</table>\n",
       "</div>"
      ],
      "text/plain": [
       "            _rowstate_    Sinage   Parking     Clean   Overall       Age  \\\n",
       "_rowstate_         NaN       NaN       NaN       NaN       NaN       NaN   \n",
       "Sinage             NaN  1.000000  0.470322  0.349163  0.382881 -0.091512   \n",
       "Parking            NaN  0.470322  1.000000  0.444368  0.516585 -0.023607   \n",
       "Clean              NaN  0.349163  0.444368  1.000000  0.349412 -0.005052   \n",
       "Overall            NaN  0.382881  0.516585  0.349412  1.000000 -0.034171   \n",
       "Age                NaN -0.091512 -0.023607 -0.005052 -0.034171  1.000000   \n",
       "Income             NaN -0.036721 -0.022084  0.019851 -0.004050  0.144772   \n",
       "\n",
       "              Income  \n",
       "_rowstate_       NaN  \n",
       "Sinage     -0.036721  \n",
       "Parking    -0.022084  \n",
       "Clean       0.019851  \n",
       "Overall    -0.004050  \n",
       "Age         0.144772  \n",
       "Income      1.000000  "
      ]
     },
     "execution_count": 48,
     "metadata": {},
     "output_type": "execute_result"
    }
   ],
   "source": [
    "#we can check correlation , so we can identify we can identify the factor to satisfcation\n",
    "cus.corr()\n",
    "#we can see singale , parking ,clean as positive correlation with overall \n",
    "#we can say those are the factor for satisfaction"
   ]
  },
  {
   "cell_type": "markdown",
   "id": "af98bf69",
   "metadata": {},
   "source": [
    "In what media outlet(s) should the film series be advertised?"
   ]
  },
  {
   "cell_type": "code",
   "execution_count": 34,
   "id": "a642422c",
   "metadata": {},
   "outputs": [
    {
     "data": {
      "text/html": [
       "<div>\n",
       "<style scoped>\n",
       "    .dataframe tbody tr th:only-of-type {\n",
       "        vertical-align: middle;\n",
       "    }\n",
       "\n",
       "    .dataframe tbody tr th {\n",
       "        vertical-align: top;\n",
       "    }\n",
       "\n",
       "    .dataframe thead th {\n",
       "        text-align: right;\n",
       "    }\n",
       "</style>\n",
       "<table border=\"1\" class=\"dataframe\">\n",
       "  <thead>\n",
       "    <tr style=\"text-align: right;\">\n",
       "      <th>Hear_About</th>\n",
       "      <th>1</th>\n",
       "      <th>1,5</th>\n",
       "      <th>2</th>\n",
       "      <th>2,5</th>\n",
       "      <th>3</th>\n",
       "      <th>3,4</th>\n",
       "      <th>3,5</th>\n",
       "      <th>4</th>\n",
       "      <th>4,5</th>\n",
       "      <th>5</th>\n",
       "      <th>5,4</th>\n",
       "    </tr>\n",
       "    <tr>\n",
       "      <th>Movie</th>\n",
       "      <th></th>\n",
       "      <th></th>\n",
       "      <th></th>\n",
       "      <th></th>\n",
       "      <th></th>\n",
       "      <th></th>\n",
       "      <th></th>\n",
       "      <th></th>\n",
       "      <th></th>\n",
       "      <th></th>\n",
       "      <th></th>\n",
       "    </tr>\n",
       "  </thead>\n",
       "  <tbody>\n",
       "    <tr>\n",
       "      <th>Ferris Buellers Day Off</th>\n",
       "      <td>13</td>\n",
       "      <td>1</td>\n",
       "      <td>4</td>\n",
       "      <td>1</td>\n",
       "      <td>4</td>\n",
       "      <td>0</td>\n",
       "      <td>0</td>\n",
       "      <td>17</td>\n",
       "      <td>1</td>\n",
       "      <td>94</td>\n",
       "      <td>0</td>\n",
       "    </tr>\n",
       "    <tr>\n",
       "      <th>Old School</th>\n",
       "      <td>1</td>\n",
       "      <td>0</td>\n",
       "      <td>4</td>\n",
       "      <td>0</td>\n",
       "      <td>1</td>\n",
       "      <td>1</td>\n",
       "      <td>0</td>\n",
       "      <td>1</td>\n",
       "      <td>0</td>\n",
       "      <td>24</td>\n",
       "      <td>0</td>\n",
       "    </tr>\n",
       "    <tr>\n",
       "      <th>Willy Wonka</th>\n",
       "      <td>8</td>\n",
       "      <td>0</td>\n",
       "      <td>4</td>\n",
       "      <td>1</td>\n",
       "      <td>9</td>\n",
       "      <td>1</td>\n",
       "      <td>1</td>\n",
       "      <td>23</td>\n",
       "      <td>0</td>\n",
       "      <td>108</td>\n",
       "      <td>1</td>\n",
       "    </tr>\n",
       "  </tbody>\n",
       "</table>\n",
       "</div>"
      ],
      "text/plain": [
       "Hear_About                1  1,5  2  2,5  3  3,4  3,5   4  4,5    5  5,4\n",
       "Movie                                                                   \n",
       "Ferris Buellers Day Off  13    1  4    1  4    0    0  17    1   94    0\n",
       "Old School                1    0  4    0  1    1    0   1    0   24    0\n",
       "Willy Wonka               8    0  4    1  9    1    1  23    0  108    1"
      ]
     },
     "execution_count": 34,
     "metadata": {},
     "output_type": "execute_result"
    }
   ],
   "source": [
    "pd.crosstab(cus.Movie,cus.Hear_About)"
   ]
  },
  {
   "cell_type": "markdown",
   "id": "4d72cc46",
   "metadata": {},
   "source": [
    "What is the demographic profile of Film on the Rocks patrons?"
   ]
  },
  {
   "cell_type": "code",
   "execution_count": 35,
   "id": "1b217658",
   "metadata": {},
   "outputs": [
    {
     "data": {
      "text/html": [
       "<div>\n",
       "<style scoped>\n",
       "    .dataframe tbody tr th:only-of-type {\n",
       "        vertical-align: middle;\n",
       "    }\n",
       "\n",
       "    .dataframe tbody tr th {\n",
       "        vertical-align: top;\n",
       "    }\n",
       "\n",
       "    .dataframe thead th {\n",
       "        text-align: right;\n",
       "    }\n",
       "</style>\n",
       "<table border=\"1\" class=\"dataframe\">\n",
       "  <thead>\n",
       "    <tr style=\"text-align: right;\">\n",
       "      <th>Gender</th>\n",
       "      <th>Female</th>\n",
       "      <th>Male</th>\n",
       "    </tr>\n",
       "    <tr>\n",
       "      <th>Movie</th>\n",
       "      <th></th>\n",
       "      <th></th>\n",
       "    </tr>\n",
       "  </thead>\n",
       "  <tbody>\n",
       "    <tr>\n",
       "      <th>Ferris Buellers Day Off</th>\n",
       "      <td>99</td>\n",
       "      <td>38</td>\n",
       "    </tr>\n",
       "    <tr>\n",
       "      <th>Old School</th>\n",
       "      <td>19</td>\n",
       "      <td>13</td>\n",
       "    </tr>\n",
       "    <tr>\n",
       "      <th>Willy Wonka</th>\n",
       "      <td>108</td>\n",
       "      <td>53</td>\n",
       "    </tr>\n",
       "  </tbody>\n",
       "</table>\n",
       "</div>"
      ],
      "text/plain": [
       "Gender                   Female  Male\n",
       "Movie                                \n",
       "Ferris Buellers Day Off      99    38\n",
       "Old School                   19    13\n",
       "Willy Wonka                 108    53"
      ]
     },
     "execution_count": 35,
     "metadata": {},
     "output_type": "execute_result"
    }
   ],
   "source": [
    "pd.crosstab(cus.Movie,cus.Gender)"
   ]
  },
  {
   "cell_type": "code",
   "execution_count": 36,
   "id": "73240f05",
   "metadata": {},
   "outputs": [
    {
     "data": {
      "text/html": [
       "<div>\n",
       "<style scoped>\n",
       "    .dataframe tbody tr th:only-of-type {\n",
       "        vertical-align: middle;\n",
       "    }\n",
       "\n",
       "    .dataframe tbody tr th {\n",
       "        vertical-align: top;\n",
       "    }\n",
       "\n",
       "    .dataframe thead th {\n",
       "        text-align: right;\n",
       "    }\n",
       "</style>\n",
       "<table border=\"1\" class=\"dataframe\">\n",
       "  <thead>\n",
       "    <tr style=\"text-align: right;\">\n",
       "      <th>Clean</th>\n",
       "      <th>1.0</th>\n",
       "      <th>2.0</th>\n",
       "      <th>3.0</th>\n",
       "      <th>4.0</th>\n",
       "      <th>5.0</th>\n",
       "    </tr>\n",
       "    <tr>\n",
       "      <th>Movie</th>\n",
       "      <th></th>\n",
       "      <th></th>\n",
       "      <th></th>\n",
       "      <th></th>\n",
       "      <th></th>\n",
       "    </tr>\n",
       "  </thead>\n",
       "  <tbody>\n",
       "    <tr>\n",
       "      <th>Ferris Buellers Day Off</th>\n",
       "      <td>61</td>\n",
       "      <td>62</td>\n",
       "      <td>12</td>\n",
       "      <td>2</td>\n",
       "      <td>0</td>\n",
       "    </tr>\n",
       "    <tr>\n",
       "      <th>Old School</th>\n",
       "      <td>12</td>\n",
       "      <td>16</td>\n",
       "      <td>3</td>\n",
       "      <td>0</td>\n",
       "      <td>1</td>\n",
       "    </tr>\n",
       "    <tr>\n",
       "      <th>Willy Wonka</th>\n",
       "      <td>71</td>\n",
       "      <td>74</td>\n",
       "      <td>9</td>\n",
       "      <td>3</td>\n",
       "      <td>1</td>\n",
       "    </tr>\n",
       "  </tbody>\n",
       "</table>\n",
       "</div>"
      ],
      "text/plain": [
       "Clean                    1.0  2.0  3.0  4.0  5.0\n",
       "Movie                                           \n",
       "Ferris Buellers Day Off   61   62   12    2    0\n",
       "Old School                12   16    3    0    1\n",
       "Willy Wonka               71   74    9    3    1"
      ]
     },
     "execution_count": 36,
     "metadata": {},
     "output_type": "execute_result"
    }
   ],
   "source": [
    "pd.crosstab(cus.Movie,cus.Clean)"
   ]
  },
  {
   "cell_type": "code",
   "execution_count": 39,
   "id": "3df30dc3",
   "metadata": {},
   "outputs": [
    {
     "data": {
      "text/html": [
       "<div>\n",
       "<style scoped>\n",
       "    .dataframe tbody tr th:only-of-type {\n",
       "        vertical-align: middle;\n",
       "    }\n",
       "\n",
       "    .dataframe tbody tr th {\n",
       "        vertical-align: top;\n",
       "    }\n",
       "\n",
       "    .dataframe thead th {\n",
       "        text-align: right;\n",
       "    }\n",
       "</style>\n",
       "<table border=\"1\" class=\"dataframe\">\n",
       "  <thead>\n",
       "    <tr style=\"text-align: right;\">\n",
       "      <th>Sinage</th>\n",
       "      <th>1.0</th>\n",
       "      <th>2.0</th>\n",
       "      <th>3.0</th>\n",
       "      <th>4.0</th>\n",
       "      <th>5.0</th>\n",
       "    </tr>\n",
       "    <tr>\n",
       "      <th>Movie</th>\n",
       "      <th></th>\n",
       "      <th></th>\n",
       "      <th></th>\n",
       "      <th></th>\n",
       "      <th></th>\n",
       "    </tr>\n",
       "  </thead>\n",
       "  <tbody>\n",
       "    <tr>\n",
       "      <th>Ferris Buellers Day Off</th>\n",
       "      <td>53</td>\n",
       "      <td>64</td>\n",
       "      <td>19</td>\n",
       "      <td>0</td>\n",
       "      <td>1</td>\n",
       "    </tr>\n",
       "    <tr>\n",
       "      <th>Old School</th>\n",
       "      <td>12</td>\n",
       "      <td>13</td>\n",
       "      <td>4</td>\n",
       "      <td>2</td>\n",
       "      <td>1</td>\n",
       "    </tr>\n",
       "    <tr>\n",
       "      <th>Willy Wonka</th>\n",
       "      <td>48</td>\n",
       "      <td>79</td>\n",
       "      <td>25</td>\n",
       "      <td>4</td>\n",
       "      <td>3</td>\n",
       "    </tr>\n",
       "  </tbody>\n",
       "</table>\n",
       "</div>"
      ],
      "text/plain": [
       "Sinage                   1.0  2.0  3.0  4.0  5.0\n",
       "Movie                                           \n",
       "Ferris Buellers Day Off   53   64   19    0    1\n",
       "Old School                12   13    4    2    1\n",
       "Willy Wonka               48   79   25    4    3"
      ]
     },
     "execution_count": 39,
     "metadata": {},
     "output_type": "execute_result"
    }
   ],
   "source": [
    "pd.crosstab(cus.Movie,cus.Sinage)"
   ]
  },
  {
   "cell_type": "code",
   "execution_count": 40,
   "id": "0aa1e0db",
   "metadata": {},
   "outputs": [
    {
     "data": {
      "text/html": [
       "<div>\n",
       "<style scoped>\n",
       "    .dataframe tbody tr th:only-of-type {\n",
       "        vertical-align: middle;\n",
       "    }\n",
       "\n",
       "    .dataframe tbody tr th {\n",
       "        vertical-align: top;\n",
       "    }\n",
       "\n",
       "    .dataframe thead th {\n",
       "        text-align: right;\n",
       "    }\n",
       "</style>\n",
       "<table border=\"1\" class=\"dataframe\">\n",
       "  <thead>\n",
       "    <tr style=\"text-align: right;\">\n",
       "      <th>Overall</th>\n",
       "      <th>1.0</th>\n",
       "      <th>2.0</th>\n",
       "      <th>3.0</th>\n",
       "      <th>4.0</th>\n",
       "      <th>5.0</th>\n",
       "    </tr>\n",
       "    <tr>\n",
       "      <th>Movie</th>\n",
       "      <th></th>\n",
       "      <th></th>\n",
       "      <th></th>\n",
       "      <th></th>\n",
       "      <th></th>\n",
       "    </tr>\n",
       "  </thead>\n",
       "  <tbody>\n",
       "    <tr>\n",
       "      <th>Ferris Buellers Day Off</th>\n",
       "      <td>59</td>\n",
       "      <td>71</td>\n",
       "      <td>4</td>\n",
       "      <td>1</td>\n",
       "      <td>2</td>\n",
       "    </tr>\n",
       "    <tr>\n",
       "      <th>Old School</th>\n",
       "      <td>21</td>\n",
       "      <td>10</td>\n",
       "      <td>0</td>\n",
       "      <td>0</td>\n",
       "      <td>1</td>\n",
       "    </tr>\n",
       "    <tr>\n",
       "      <th>Willy Wonka</th>\n",
       "      <td>71</td>\n",
       "      <td>79</td>\n",
       "      <td>8</td>\n",
       "      <td>0</td>\n",
       "      <td>1</td>\n",
       "    </tr>\n",
       "  </tbody>\n",
       "</table>\n",
       "</div>"
      ],
      "text/plain": [
       "Overall                  1.0  2.0  3.0  4.0  5.0\n",
       "Movie                                           \n",
       "Ferris Buellers Day Off   59   71    4    1    2\n",
       "Old School                21   10    0    0    1\n",
       "Willy Wonka               71   79    8    0    1"
      ]
     },
     "execution_count": 40,
     "metadata": {},
     "output_type": "execute_result"
    }
   ],
   "source": [
    "pd.crosstab(cus.Movie,cus.Overall)"
   ]
  },
  {
   "cell_type": "code",
   "execution_count": 46,
   "id": "06533db2",
   "metadata": {},
   "outputs": [
    {
     "data": {
      "text/html": [
       "<div>\n",
       "<style scoped>\n",
       "    .dataframe tbody tr th:only-of-type {\n",
       "        vertical-align: middle;\n",
       "    }\n",
       "\n",
       "    .dataframe tbody tr th {\n",
       "        vertical-align: top;\n",
       "    }\n",
       "\n",
       "    .dataframe thead th {\n",
       "        text-align: right;\n",
       "    }\n",
       "</style>\n",
       "<table border=\"1\" class=\"dataframe\">\n",
       "  <thead>\n",
       "    <tr style=\"text-align: right;\">\n",
       "      <th>Parking</th>\n",
       "      <th>1.0</th>\n",
       "      <th>2.0</th>\n",
       "      <th>3.0</th>\n",
       "      <th>4.0</th>\n",
       "      <th>5.0</th>\n",
       "    </tr>\n",
       "    <tr>\n",
       "      <th>Movie</th>\n",
       "      <th></th>\n",
       "      <th></th>\n",
       "      <th></th>\n",
       "      <th></th>\n",
       "      <th></th>\n",
       "    </tr>\n",
       "  </thead>\n",
       "  <tbody>\n",
       "    <tr>\n",
       "      <th>Ferris Buellers Day Off</th>\n",
       "      <td>54</td>\n",
       "      <td>66</td>\n",
       "      <td>11</td>\n",
       "      <td>5</td>\n",
       "      <td>1</td>\n",
       "    </tr>\n",
       "    <tr>\n",
       "      <th>Old School</th>\n",
       "      <td>17</td>\n",
       "      <td>11</td>\n",
       "      <td>3</td>\n",
       "      <td>0</td>\n",
       "      <td>1</td>\n",
       "    </tr>\n",
       "    <tr>\n",
       "      <th>Willy Wonka</th>\n",
       "      <td>64</td>\n",
       "      <td>76</td>\n",
       "      <td>15</td>\n",
       "      <td>2</td>\n",
       "      <td>2</td>\n",
       "    </tr>\n",
       "  </tbody>\n",
       "</table>\n",
       "</div>"
      ],
      "text/plain": [
       "Parking                  1.0  2.0  3.0  4.0  5.0\n",
       "Movie                                           \n",
       "Ferris Buellers Day Off   54   66   11    5    1\n",
       "Old School                17   11    3    0    1\n",
       "Willy Wonka               64   76   15    2    2"
      ]
     },
     "execution_count": 46,
     "metadata": {},
     "output_type": "execute_result"
    }
   ],
   "source": [
    "pd.crosstab(cus.Movie,cus.Parking)"
   ]
  },
  {
   "cell_type": "code",
   "execution_count": null,
   "id": "750caf01",
   "metadata": {},
   "outputs": [],
   "source": []
  }
 ],
 "metadata": {
  "kernelspec": {
   "display_name": "Python 3 (ipykernel)",
   "language": "python",
   "name": "python3"
  },
  "language_info": {
   "codemirror_mode": {
    "name": "ipython",
    "version": 3
   },
   "file_extension": ".py",
   "mimetype": "text/x-python",
   "name": "python",
   "nbconvert_exporter": "python",
   "pygments_lexer": "ipython3",
   "version": "3.9.13"
  }
 },
 "nbformat": 4,
 "nbformat_minor": 5
}
